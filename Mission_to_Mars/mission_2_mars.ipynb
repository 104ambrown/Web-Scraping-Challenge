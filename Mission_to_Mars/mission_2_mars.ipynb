{
 "cells": [
  {
   "cell_type": "code",
   "execution_count": null,
   "id": "219acde9",
   "metadata": {},
   "outputs": [],
   "source": [
    "#import dependencies\n",
    "import os\n",
    "import pandas as pd\n",
    "from bs4 import BeautifulSoup as bs\n",
    "import pymongo \n",
    "import datetime\n",
    "import requests\n",
    "from splinter import browser\n",
    "from webdriver_manager.chrome import ChromeDriverManager\n",
    "import matplotlib as pyplot\n",
    "\n",
    "\n"
   ]
  },
  {
   "cell_type": "code",
   "execution_count": null,
   "id": "1b3a15f6",
   "metadata": {},
   "outputs": [],
   "source": [
    "#Assign the text to variables that you can reference later.\n",
    "browser = Browser()\n",
    "news_title = \n",
    "news_p = \n",
    "featured_image_url ="
   ]
  },
  {
   "cell_type": "code",
   "execution_count": null,
   "id": "019f7de9",
   "metadata": {},
   "outputs": [],
   "source": [
    "# creating a dictionary of Martian hemispheres\n",
    "hemisphere_image_urls = [\n",
    "    {\"title\": \"Valles Marineris Hemisphere\", \"img_url\": \"...\"},\n",
    "    {\"title\": \"Cerberus Hemisphere\", \"img_url\": \"https://marshemispheres.com/images/f5e372a36edfa389625da6d0cc25d905_cerberus_enhanced.tif_full.jpg\"},\n",
    "    {\"title\": \"Schiaparelli Hemisphere\", \"img_url\": \"https://marshemispheres.com/images/3778f7b43bbbc89d6e3cfabb3613ba93_schiaparelli_enhanced.tif_full.jpg\"},\n",
    "    {\"title\": \"Syrtis Major Hemisphere\", \"img_url\": \"https://marshemispheres.com/images/555e6403a6ddd7ba16ddb0e471cadcf7_syrtis_major_enhanced.tif_full.jpg\"},\n",
    "]"
   ]
  },
  {
   "cell_type": "code",
   "execution_count": null,
   "id": "e98764b8",
   "metadata": {},
   "outputs": [],
   "source": [
    "#Scrape the [Mars News Site](https://redplanetscience.com/) and collect the latest News Title and Paragraph Text. "
   ]
  },
  {
   "cell_type": "code",
   "execution_count": null,
   "id": "7907858d",
   "metadata": {},
   "outputs": [],
   "source": [
    "# Visit the url for the Featured Space Image site [here](https://spaceimages-mars.com).\n",
    "\n",
    "# Use splinter to navigate the site and find the image url for the current Featured Mars Image and assign the url string to a variable called `featured_image_url`.\n",
    "\n",
    "# Make sure to find the image url to the full size `.jpg` image.\n",
    "\n",
    "# Make sure to save a complete url string for this image.\n"
   ]
  }
 ],
 "metadata": {
  "kernelspec": {
   "display_name": "Python 3",
   "language": "python",
   "name": "python3"
  },
  "language_info": {
   "codemirror_mode": {
    "name": "ipython",
    "version": 3
   },
   "file_extension": ".py",
   "mimetype": "text/x-python",
   "name": "python",
   "nbconvert_exporter": "python",
   "pygments_lexer": "ipython3",
   "version": "3.8.8"
  }
 },
 "nbformat": 4,
 "nbformat_minor": 5
}
